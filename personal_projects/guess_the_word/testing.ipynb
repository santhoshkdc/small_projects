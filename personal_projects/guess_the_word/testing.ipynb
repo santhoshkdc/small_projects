{
 "cells": [
  {
   "cell_type": "code",
   "execution_count": 164,
   "id": "5d6e67eb",
   "metadata": {},
   "outputs": [],
   "source": [
    "import re\n",
    "import pandas as pd"
   ]
  },
  {
   "cell_type": "code",
   "execution_count": 165,
   "id": "fa1268d7",
   "metadata": {
    "scrolled": true
   },
   "outputs": [
    {
     "name": "stdout",
     "output_type": "stream",
     "text": [
      "Do Androids Dream of Electric Sheep?\n",
      "Philip K. Dick\n",
      "To Maren Augusta Bergrud\n",
      "August 10, 1923-June 14, 1967\n",
      "And still i dream he treads the lawn,\n",
      "Walking ghostly in the dew,\n",
      "Pierced by my glad singing through.\n",
      "Yeats\n",
      "Auckland\n",
      "\n",
      "224"
     ]
    }
   ],
   "source": [
    "with open(\"text.txt\", \"r\") as f:\n",
    "    f_obj = f.read()\n",
    "print(f_obj, end = f\"\\n{len(f_obj)}\")"
   ]
  },
  {
   "cell_type": "code",
   "execution_count": 181,
   "id": "8f7b375d",
   "metadata": {},
   "outputs": [
    {
     "data": {
      "text/plain": [
       "['Androids',\n",
       " 'Dream',\n",
       " 'Electric',\n",
       " 'Sheep',\n",
       " 'Philip',\n",
       " 'Dick',\n",
       " 'Maren',\n",
       " 'Augusta',\n",
       " 'Bergrud',\n",
       " 'August',\n",
       " 'June',\n",
       " 'And',\n",
       " 'still',\n",
       " 'dream',\n",
       " 'treads',\n",
       " 'the',\n",
       " 'lawn',\n",
       " 'Walking',\n",
       " 'ghostly',\n",
       " 'the',\n",
       " 'dew',\n",
       " 'Pierced',\n",
       " 'glad',\n",
       " 'singing',\n",
       " 'through',\n",
       " 'Yeats',\n",
       " 'Auckland']"
      ]
     },
     "execution_count": 181,
     "metadata": {},
     "output_type": "execute_result"
    }
   ],
   "source": [
    "pattern = re.compile(r\"(\\b[a-zA-Z]{3,8}\\b)\")\n",
    "matches = re.findall(pattern,f_obj)\n",
    "matches"
   ]
  }
 ],
 "metadata": {
  "kernelspec": {
   "display_name": "Python 3 (ipykernel)",
   "language": "python",
   "name": "python3"
  },
  "language_info": {
   "codemirror_mode": {
    "name": "ipython",
    "version": 3
   },
   "file_extension": ".py",
   "mimetype": "text/x-python",
   "name": "python",
   "nbconvert_exporter": "python",
   "pygments_lexer": "ipython3",
   "version": "3.9.7"
  }
 },
 "nbformat": 4,
 "nbformat_minor": 5
}
